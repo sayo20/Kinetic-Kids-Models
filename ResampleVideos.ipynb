{
 "cells": [
  {
   "cell_type": "code",
   "execution_count": 1,
   "metadata": {},
   "outputs": [],
   "source": [
    "import subprocess\n",
    "import glob\n",
    "import os\n",
    "from  tqdm import tqdm\n",
    "import imageio\n",
    "import os\n",
    "import numpy \n",
    "import torch\n",
    "import glob\n",
    "from  tqdm import tqdm\n",
    "import math\n",
    "import time"
   ]
  },
  {
   "cell_type": "code",
   "execution_count": 2,
   "metadata": {},
   "outputs": [],
   "source": [
    "def process_dataset(directory_path,dir_,fps_final,category):\n",
    "    \n",
    "\n",
    "    dirx = os.path.join(directory_path,category+\"_kid\") \n",
    "    new_path = os.path.join(dir_,os.path.basename(dirx))\n",
    "    \n",
    "    if not os.path.exists(new_path):\n",
    "        os.mkdir(new_path)\n",
    "    videos = glob.glob(os.path.join(dirx,'*'))\n",
    "\n",
    "    for video_path in tqdm(videos):\n",
    "\n",
    "        reader = imageio.get_reader(video_path,  'ffmpeg')\n",
    "\n",
    "        fps =  reader.get_meta_data()['fps']\n",
    "\n",
    "\n",
    "        read_path = video_path\n",
    "        if not fps>= fps_final:\n",
    "            mutliple = int(math.ceil(fps_final/fps)) - 1\n",
    "            command= \"python inference_video.py --exp=\" +str(mutliple)+\" --video=\\\"\"+video_path+ \"\\\" --output movie.mp4\"\n",
    "\n",
    "            subprocess.call(command, shell=True)\n",
    "            read_path  = 'movie.mp4'\n",
    "\n",
    "        write_path  = os.path.join(new_path,os.path.basename(video_path))\n",
    "        if os.path.exists(write_path):\n",
    "            os.remove(write_path)\n",
    "\n",
    "        output_path = os.path.join(os.path.join(dir_,os.path.dirname(video_path)),os.path.basename(video_path))\n",
    "        command = \"ffmpeg -i \\\"\"+video_path+\"\\\" -filter:v fps=fps=30 \\\"\" + output_path+\"\\\"\"\n",
    "        \n",
    "        while not os.path.isfile('movie.mp4') and ( fps< fps_final):\n",
    "            pass\n",
    "        subprocess.call(command, shell=True)\n",
    "\n",
    "        time.sleep(3)\n",
    "        if os.path.exists('movie.mp4'):\n",
    "            os.remove('movie.mp4')\n",
    "          \n",
    "\n",
    "   \n",
    "\n",
    "# pass\n"
   ]
  },
  {
   "cell_type": "code",
   "execution_count": 3,
   "metadata": {},
   "outputs": [],
   "source": [
    "categories = ['playing basketball', 'playing tennis', 'dribbling basketball', \n",
    "              'dunking basketball', 'water skiing',\n",
    "              'kicking soccer ball', 'bowling', 'catching or throwing baseball', 'hitting baseball',\n",
    "              'bouncing on trampoline', 'shooting basketball', 'playing cricket', 'playing badminton',\n",
    "              'somersaulting', 'cartwheeling', 'catching or throwing softball', 'playing volleyball',\n",
    "              'juggling soccer ball', 'archery', 'parkour','catching or throwing frisbee_kid']\n",
    "\n",
    "\n"
   ]
  },
  {
   "cell_type": "code",
   "execution_count": 4,
   "metadata": {},
   "outputs": [
    {
     "output_type": "stream",
     "name": "stderr",
     "text": [
      "  0%|          | 0/62 [00:00<?, ?it/s]playing basketball\n",
      "  0%|          | 0/62 [03:23<?, ?it/s]\n"
     ]
    },
    {
     "output_type": "error",
     "ename": "KeyboardInterrupt",
     "evalue": "",
     "traceback": [
      "\u001b[1;31m---------------------------------------------------------------------------\u001b[0m",
      "\u001b[1;31mFileNotFoundError\u001b[0m                         Traceback (most recent call last)",
      "\u001b[1;32m~\\anaconda3\\envs\\feyi\\lib\\genericpath.py\u001b[0m in \u001b[0;36misfile\u001b[1;34m(path)\u001b[0m\n\u001b[0;32m     29\u001b[0m     \u001b[1;32mtry\u001b[0m\u001b[1;33m:\u001b[0m\u001b[1;33m\u001b[0m\u001b[0m\n\u001b[1;32m---> 30\u001b[1;33m         \u001b[0mst\u001b[0m \u001b[1;33m=\u001b[0m \u001b[0mos\u001b[0m\u001b[1;33m.\u001b[0m\u001b[0mstat\u001b[0m\u001b[1;33m(\u001b[0m\u001b[0mpath\u001b[0m\u001b[1;33m)\u001b[0m\u001b[1;33m\u001b[0m\u001b[0m\n\u001b[0m\u001b[0;32m     31\u001b[0m     \u001b[1;32mexcept\u001b[0m \u001b[0mOSError\u001b[0m\u001b[1;33m:\u001b[0m\u001b[1;33m\u001b[0m\u001b[0m\n",
      "\u001b[1;31mFileNotFoundError\u001b[0m: [WinError 2] The system cannot find the file specified: 'movie.mp4'",
      "\nDuring handling of the above exception, another exception occurred:\n",
      "\u001b[1;31mKeyboardInterrupt\u001b[0m                         Traceback (most recent call last)",
      "\u001b[1;32m<ipython-input-4-15dbbe07053d>\u001b[0m in \u001b[0;36m<module>\u001b[1;34m\u001b[0m\n\u001b[0;32m      1\u001b[0m \u001b[1;32mfor\u001b[0m \u001b[0mcategory\u001b[0m \u001b[1;32min\u001b[0m \u001b[0mcategories\u001b[0m\u001b[1;33m:\u001b[0m\u001b[1;33m\u001b[0m\u001b[0m\n\u001b[0;32m      2\u001b[0m     \u001b[0mprint\u001b[0m\u001b[1;33m(\u001b[0m\u001b[0mcategory\u001b[0m\u001b[1;33m)\u001b[0m\u001b[1;33m\u001b[0m\u001b[0m\n\u001b[1;32m----> 3\u001b[1;33m     \u001b[0mprocess_dataset\u001b[0m\u001b[1;33m(\u001b[0m\u001b[1;34m'Kinetic-Kids'\u001b[0m\u001b[1;33m,\u001b[0m\u001b[1;34m'Kinetic-Kids-processed'\u001b[0m\u001b[1;33m,\u001b[0m\u001b[1;36m30\u001b[0m\u001b[1;33m,\u001b[0m\u001b[0mcategory\u001b[0m\u001b[1;33m)\u001b[0m\u001b[1;33m\u001b[0m\u001b[0m\n\u001b[0m\u001b[0;32m      4\u001b[0m \u001b[1;33m\u001b[0m\u001b[0m\n",
      "\u001b[1;32m<ipython-input-2-c08add19140d>\u001b[0m in \u001b[0;36mprocess_dataset\u001b[1;34m(directory_path, dir_, fps_final, category)\u001b[0m\n\u001b[0;32m     31\u001b[0m         \u001b[0mcommand\u001b[0m \u001b[1;33m=\u001b[0m \u001b[1;34m\"ffmpeg -i \\\"\"\u001b[0m\u001b[1;33m+\u001b[0m\u001b[0mvideo_path\u001b[0m\u001b[1;33m+\u001b[0m\u001b[1;34m\"\\\" -filter:v fps=fps=30 \\\"\"\u001b[0m \u001b[1;33m+\u001b[0m \u001b[0moutput_path\u001b[0m\u001b[1;33m+\u001b[0m\u001b[1;34m\"\\\"\"\u001b[0m\u001b[1;33m\u001b[0m\u001b[0m\n\u001b[0;32m     32\u001b[0m \u001b[1;33m\u001b[0m\u001b[0m\n\u001b[1;32m---> 33\u001b[1;33m         \u001b[1;32mwhile\u001b[0m \u001b[1;32mnot\u001b[0m \u001b[0mos\u001b[0m\u001b[1;33m.\u001b[0m\u001b[0mpath\u001b[0m\u001b[1;33m.\u001b[0m\u001b[0misfile\u001b[0m\u001b[1;33m(\u001b[0m\u001b[1;34m'movie.mp4'\u001b[0m\u001b[1;33m)\u001b[0m \u001b[1;32mand\u001b[0m \u001b[1;33m(\u001b[0m \u001b[0mfps\u001b[0m\u001b[1;33m<\u001b[0m \u001b[0mfps_final\u001b[0m\u001b[1;33m)\u001b[0m\u001b[1;33m:\u001b[0m\u001b[1;33m\u001b[0m\u001b[0m\n\u001b[0m\u001b[0;32m     34\u001b[0m             \u001b[1;32mpass\u001b[0m\u001b[1;33m\u001b[0m\u001b[0m\n\u001b[0;32m     35\u001b[0m         \u001b[0msubprocess\u001b[0m\u001b[1;33m.\u001b[0m\u001b[0mcall\u001b[0m\u001b[1;33m(\u001b[0m\u001b[0mcommand\u001b[0m\u001b[1;33m,\u001b[0m \u001b[0mshell\u001b[0m\u001b[1;33m=\u001b[0m\u001b[1;32mTrue\u001b[0m\u001b[1;33m)\u001b[0m\u001b[1;33m\u001b[0m\u001b[0m\n",
      "\u001b[1;32m~\\anaconda3\\envs\\feyi\\lib\\genericpath.py\u001b[0m in \u001b[0;36misfile\u001b[1;34m(path)\u001b[0m\n\u001b[0;32m     28\u001b[0m     \u001b[1;34m\"\"\"Test whether a path is a regular file\"\"\"\u001b[0m\u001b[1;33m\u001b[0m\u001b[0m\n\u001b[0;32m     29\u001b[0m     \u001b[1;32mtry\u001b[0m\u001b[1;33m:\u001b[0m\u001b[1;33m\u001b[0m\u001b[0m\n\u001b[1;32m---> 30\u001b[1;33m         \u001b[0mst\u001b[0m \u001b[1;33m=\u001b[0m \u001b[0mos\u001b[0m\u001b[1;33m.\u001b[0m\u001b[0mstat\u001b[0m\u001b[1;33m(\u001b[0m\u001b[0mpath\u001b[0m\u001b[1;33m)\u001b[0m\u001b[1;33m\u001b[0m\u001b[0m\n\u001b[0m\u001b[0;32m     31\u001b[0m     \u001b[1;32mexcept\u001b[0m \u001b[0mOSError\u001b[0m\u001b[1;33m:\u001b[0m\u001b[1;33m\u001b[0m\u001b[0m\n\u001b[0;32m     32\u001b[0m         \u001b[1;32mreturn\u001b[0m \u001b[1;32mFalse\u001b[0m\u001b[1;33m\u001b[0m\u001b[0m\n",
      "\u001b[1;31mKeyboardInterrupt\u001b[0m: "
     ]
    }
   ],
   "source": [
    "for category in categories:\n",
    "    print(category)\n",
    "    process_dataset('Kinetic-Kids','Kinetic-Kids-processed',30,category)\n",
    "    "
   ]
  },
  {
   "cell_type": "code",
   "execution_count": null,
   "metadata": {},
   "outputs": [],
   "source": []
  }
 ],
 "metadata": {
  "kernelspec": {
   "name": "python3",
   "display_name": "Python 3.7.0 64-bit ('feyi': conda)"
  },
  "language_info": {
   "codemirror_mode": {
    "name": "ipython",
    "version": 3
   },
   "file_extension": ".py",
   "mimetype": "text/x-python",
   "name": "python",
   "nbconvert_exporter": "python",
   "pygments_lexer": "ipython3",
   "version": "3.7.0"
  },
  "interpreter": {
   "hash": "39c29dc206f1d6bf9903cfa210547595d68d22ace33d77025b6dfa27652a9245"
  }
 },
 "nbformat": 4,
 "nbformat_minor": 2
}